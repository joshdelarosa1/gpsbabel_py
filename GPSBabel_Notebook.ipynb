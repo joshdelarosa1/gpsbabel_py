{
 "cells": [
  {
   "cell_type": "markdown",
   "metadata": {},
   "source": [
    "# GPS Logger Processing"
   ]
  },
  {
   "cell_type": "markdown",
   "metadata": {},
   "source": [
    "## requirements: \n",
    "[GPSBabel](https://www.gpsbabel.org/) is installed and set in the enviorment variables. This will is written for Py 3.+ and intended to be run on a Jupyter Notebook."
   ]
  },
  {
   "cell_type": "code",
   "execution_count": 63,
   "metadata": {
    "collapsed": true
   },
   "outputs": [],
   "source": [
    "import os\n",
    "import sys"
   ]
  },
  {
   "cell_type": "markdown",
   "metadata": {},
   "source": [
    "# Inputting settings\n",
    "The following cells are used to label the output of logger by a unique ID. It also prints out the variable information in order to verify it was caputured correctly.\n",
    "## logger unique id"
   ]
  },
  {
   "cell_type": "code",
   "execution_count": 64,
   "metadata": {
    "collapsed": true
   },
   "outputs": [],
   "source": [
    "vhhid=\"1223\"\n",
    "\n",
    "print(vhhid)"
   ]
  },
  {
   "cell_type": "markdown",
   "metadata": {},
   "source": [
    "## use device manager to find this port number"
   ]
  },
  {
   "cell_type": "code",
   "execution_count": 66,
   "metadata": {
    "collapsed": true
   },
   "outputs": [],
   "source": [
    "comport=\"6\"\n",
    "\n",
    "print (comport)"
   ]
  },
  {
   "cell_type": "markdown",
   "metadata": {},
   "source": [
    "## logger type\n",
    "If Canmore, then type <b>\"skytraq\"</b>\n",
    "\n",
    "![Canmore](./canmore.png \"Canmore\")\n",
    "\n",
    "If QSTAR, then type <b>\"mtk\"</b>\n",
    "\n",
    "![Q Star BT-1000](./BT-Q-1000.png \"QSTAR BT-1000\")"
   ]
  },
  {
   "cell_type": "code",
   "execution_count": 68,
   "metadata": {
    "collapsed": true
   },
   "outputs": [],
   "source": [
    "logger_type=\"skytraq\"\n",
    "\n",
    "print (logger_type)"
   ]
  },
  {
   "cell_type": "markdown",
   "metadata": {},
   "source": [
    "## run download request\n",
    "Creates a command line statement to pull data off of logger. Stores the data in a CSV format and stores the log or history in a seperate file. Log file can be used to debug logger or file problems."
   ]
  },
  {
   "cell_type": "code",
   "execution_count": 71,
   "metadata": {
    "collapsed": true,
    "scrolled": true
   },
   "outputs": [],
   "source": [
    "logg_file=\"H:/log\"+vhhid+\".txt\"\n",
    "\n",
    "args=['gpsbabel -D1 -t -i ',\n",
    "      logger_type,\n",
    "      ' -f COM',\n",
    "      comport,\n",
    "      ' -o unicsv,format=y -F H:/',\n",
    "      vhhid,\n",
    "      'out.txt >',\n",
    "      logg_file,\n",
    "      ' 2>&1'\n",
    "     ]\n",
    "\n",
    "GPS_call=''.join(args)\n",
    "\n",
    "print (GPS_call)"
   ]
  },
  {
   "cell_type": "code",
   "execution_count": 73,
   "metadata": {},
   "outputs": [
    {
     "data": {
      "text/plain": [
       "1"
      ]
     },
     "execution_count": 73,
     "metadata": {},
     "output_type": "execute_result"
    }
   ],
   "source": [
    "os.system(GPS_call)\n",
    "\n",
    "print (\"Files are read\")"
   ]
  },
  {
   "cell_type": "markdown",
   "metadata": {},
   "source": [
    "This prints out the log file. If GPS Babel is set to debug \"-D1\" then this will show details of the data pull.\n",
    "\n",
    "If there is an error, it will also display the information. If the debugger mode is off and there are no errors, this will be empty."
   ]
  },
  {
   "cell_type": "code",
   "execution_count": 75,
   "metadata": {},
   "outputs": [
    {
     "name": "stdout",
     "output_type": "stream",
     "text": [
      "<open file 'H:/log1223.txt', mode 'r' at 0x03513D30>\n",
      "options: module/option=value: skytraq/erase=\"0\" (=default)\n",
      "\n",
      "options: module/option=value: skytraq/baud=\"230400\" (=default)\n",
      "\n",
      "options: module/option=value: skytraq/initbaud=\"0\" (=default)\n",
      "\n",
      "options: module/option=value: skytraq/read-at-once=\"255\" (=default)\n",
      "\n",
      "options: module/option=value: skytraq/first-sector=\"0\" (=default)\n",
      "\n",
      "options: module/option=value: skytraq/last-sector=\"-1\" (=default)\n",
      "\n",
      "options: module/option=value: skytraq/no-output=\"0\" (=default)\n",
      "\n",
      "GPSBabel Version: 1.5.4 \n",
      "\n",
      "skytraq: Can't open port 'COM6'\n",
      "\n"
     ]
    }
   ],
   "source": [
    "f = open(logg_file, \"r\"); \n",
    "print (f)\n",
    "for line in f.readlines():  \n",
    "\n",
    " print line  "
   ]
  },
  {
   "cell_type": "markdown",
   "metadata": {},
   "source": [
    "9/12/17 To do: \n",
    "\n",
    "1. set a toggle in the code for the MTK and Canmore loggers. Use this toggle to standardize the outputs.\n",
    "2. create program to process output.\n",
    "3. add to GPS babel command the config and wipe functions."
   ]
  }
 ],
 "metadata": {
  "kernelspec": {
   "display_name": "Python 3",
   "language": "python",
   "name": "python3"
  },
  "language_info": {
   "codemirror_mode": {
    "name": "ipython",
    "version": 3
   },
   "file_extension": ".py",
   "mimetype": "text/x-python",
   "name": "python",
   "nbconvert_exporter": "python",
   "pygments_lexer": "ipython3",
   "version": "3.5.3"
  }
 },
 "nbformat": 4,
 "nbformat_minor": 2
}
